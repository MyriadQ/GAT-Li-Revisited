{
 "cells": [
  {
   "cell_type": "code",
   "execution_count": null,
   "id": "2c5e8f54",
   "metadata": {},
   "outputs": [],
   "source": []
  },
  {
   "cell_type": "code",
   "execution_count": 2,
   "id": "bcbefe31",
   "metadata": {},
   "outputs": [],
   "source": [
    "import pandas as pd\n",
    "pheno_df = pd.read_csv('/home/celery/Documents/Research/dataset/Phenotypic_V1_0b_preprocessed1.csv')"
   ]
  },
  {
   "cell_type": "code",
   "execution_count": 3,
   "id": "cf5ea542",
   "metadata": {},
   "outputs": [
    {
     "name": "stdout",
     "output_type": "stream",
     "text": [
      "Index(['Unnamed: 0', 'Unnamed: 0.1', 'SUB_ID', 'X', 'subject', 'SITE_ID',\n",
      "       'FILE_ID', 'DX_GROUP', 'DSM_IV_TR', 'AGE_AT_SCAN',\n",
      "       ...\n",
      "       'qc_notes_rater_1', 'qc_anat_rater_2', 'qc_anat_notes_rater_2',\n",
      "       'qc_func_rater_2', 'qc_func_notes_rater_2', 'qc_anat_rater_3',\n",
      "       'qc_anat_notes_rater_3', 'qc_func_rater_3', 'qc_func_notes_rater_3',\n",
      "       'SUB_IN_SMP'],\n",
      "      dtype='object', length=106)\n"
     ]
    }
   ],
   "source": [
    "print(pheno_df.columns)"
   ]
  },
  {
   "cell_type": "code",
   "execution_count": 10,
   "id": "a209c07f",
   "metadata": {},
   "outputs": [],
   "source": [
    "pheno_df['SUB_ID'].to_csv('/home/celery/Documents/Research/dataset/subject_IDs.txt', index = False, header = False) "
   ]
  },
  {
   "cell_type": "code",
   "execution_count": 4,
   "id": "4afd2f36",
   "metadata": {},
   "outputs": [],
   "source": [
    "pheno_df['FILE_ID'].to_csv('/home/celery/Documents/Research/dataset/full_IDs.txt', index = False, header = False)"
   ]
  },
  {
   "cell_type": "code",
   "execution_count": 6,
   "id": "3351ed46",
   "metadata": {},
   "outputs": [],
   "source": [
    "filtered_df = pheno_df[pheno_df['AGE_AT_SCAN'] <= 13]\n",
    "\n"
   ]
  },
  {
   "cell_type": "code",
   "execution_count": 8,
   "id": "54abe46f",
   "metadata": {},
   "outputs": [],
   "source": [
    "subject_IDs = filtered_df['SUB_ID'].tolist()\n",
    "subject_full = filtered_df['FILE_ID'].tolist()"
   ]
  },
  {
   "cell_type": "code",
   "execution_count": 12,
   "id": "9aacfc13",
   "metadata": {},
   "outputs": [],
   "source": [
    "filtered_df['FILE_ID'].to_csv('/home/celery/Documents/Research/dataset/filtered_full_IDs.txt',index = False, header = False)"
   ]
  },
  {
   "cell_type": "code",
   "execution_count": 9,
   "id": "1fdb35d3",
   "metadata": {},
   "outputs": [],
   "source": [
    "filtered_df['SUB_ID'].to_csv('/home/celery/Documents/Research/dataset/filtered_IDs.txt',index = False, header = False)"
   ]
  },
  {
   "cell_type": "code",
   "execution_count": null,
   "id": "f78a3de1",
   "metadata": {},
   "outputs": [],
   "source": []
  }
 ],
 "metadata": {
  "kernelspec": {
   "display_name": "GAT",
   "language": "python",
   "name": "python3"
  },
  "language_info": {
   "codemirror_mode": {
    "name": "ipython",
    "version": 3
   },
   "file_extension": ".py",
   "mimetype": "text/x-python",
   "name": "python",
   "nbconvert_exporter": "python",
   "pygments_lexer": "ipython3",
   "version": "3.5.10"
  }
 },
 "nbformat": 4,
 "nbformat_minor": 5
}
