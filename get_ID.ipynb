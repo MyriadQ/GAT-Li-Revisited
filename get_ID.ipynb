{
 "cells": [
  {
   "cell_type": "code",
   "execution_count": 1,
   "id": "2c5e8f54",
   "metadata": {},
   "outputs": [
    {
     "name": "stdout",
     "output_type": "stream",
     "text": [
      "Saved 884 subject IDs (no leading zeros) to: /home/celery/Documents/Research/dataset/valid_subject_ids.txt\n"
     ]
    }
   ],
   "source": [
    "import os\n",
    "import re\n",
    "\n",
    "# Folder containing your .1D files\n",
    "data_dir = '/home/celery/Documents/Research/dataset/Outputs/cpac/filt_global/rois_ho/'\n",
    "\n",
    "# Output file path\n",
    "output_txt = '/home/celery/Documents/Research/dataset/valid_subject_ids.txt'\n",
    "\n",
    "# Regex pattern to extract 7-digit subject ID\n",
    "pattern = re.compile(r'_(\\d{7})_rois_ho\\.1D$')\n",
    "\n",
    "# Extract IDs\n",
    "subject_ids = []\n",
    "for filename in os.listdir(data_dir):\n",
    "    match = pattern.search(filename)\n",
    "    if match:\n",
    "        subject_id = str(int(match.group(1)))  # convert to int → removes leading zeros\n",
    "        subject_ids.append(subject_id)\n",
    "\n",
    "# Save to .txt file\n",
    "with open(output_txt, 'w') as f:\n",
    "    for sub_id in subject_ids:\n",
    "        f.write(sub_id + '\\n')\n",
    "\n",
    "print(\"Saved\", len(subject_ids), \"subject IDs (no leading zeros) to:\", output_txt)\n",
    "\n"
   ]
  },
  {
   "cell_type": "markdown",
   "id": "d708b742",
   "metadata": {},
   "source": [
    "Getting the long IDs"
   ]
  },
  {
   "cell_type": "code",
   "execution_count": null,
   "id": "840c37d0",
   "metadata": {},
   "outputs": [
    {
     "name": "stdout",
     "output_type": "stream",
     "text": [
      "✅ Saved 884 full IDs to: /home/celery/Documents/Research/dataset/full_subject_ids.txt\n"
     ]
    }
   ],
   "source": [
    "import os\n",
    "import re\n",
    "\n",
    "# Directory containing .1D files\n",
    "data_dir = '/home/celery/Documents/Research/dataset/Outputs/cpac/filt_global/rois_ho/'\n",
    "\n",
    "# File with valid short IDs (e.g., 0050689)\n",
    "short_id_txt = '/home/celery/Documents/Research/dataset/valid_subject_ids.txt'\n",
    "\n",
    "# Output file\n",
    "output_full_id_txt = '/home/celery/Documents/Research/dataset/full_subject_ids.txt'\n",
    "\n",
    "# Load short IDs (with zero-padding preserved)\n",
    "with open(short_id_txt) as f:\n",
    "    short_ids = set(line.strip().zfill(7) for line in f if line.strip())\n",
    "\n",
    "# New pattern: match any prefix, then a 7-digit ID, then _rois_ho.1D\n",
    "pattern = re.compile(r'^(.*?_(\\d{7}))_rois_ho\\.1D$')\n",
    "\n",
    "full_ids = []\n",
    "\n",
    "for filename in os.listdir(data_dir):\n",
    "    match = pattern.match(filename)\n",
    "    if match:\n",
    "        full_id = match.group(1)        # e.g. Leuven_1_0050689\n",
    "        padded_id = match.group(2)      # e.g. 0050689\n",
    "        if padded_id in short_ids:\n",
    "            full_ids.append(full_id)\n",
    "\n",
    "# Save results\n",
    "with open(output_full_id_txt, 'w') as f:\n",
    "    for fid in full_ids:\n",
    "        f.write(fid + '\\n')\n",
    "\n",
    "print(\"Saved\", len(full_ids), \"full IDs to:\", output_full_id_txt)\n"
   ]
  }
 ],
 "metadata": {
  "kernelspec": {
   "display_name": "GAT",
   "language": "python",
   "name": "python3"
  },
  "language_info": {
   "codemirror_mode": {
    "name": "ipython",
    "version": 3
   },
   "file_extension": ".py",
   "mimetype": "text/x-python",
   "name": "python",
   "nbconvert_exporter": "python",
   "pygments_lexer": "ipython3",
   "version": "3.5.10"
  }
 },
 "nbformat": 4,
 "nbformat_minor": 5
}
