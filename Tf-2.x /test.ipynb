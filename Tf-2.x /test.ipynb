{
 "cells": [
  {
   "cell_type": "markdown",
   "id": "c30a69b4",
   "metadata": {},
   "source": [
    "Test ABCD_Parser"
   ]
  },
  {
   "cell_type": "code",
   "execution_count": 9,
   "id": "1a15b9b9",
   "metadata": {},
   "outputs": [],
   "source": [
    "import os\n",
    "import csv\n",
    "import numpy as np\n",
    "import scipy.io as sio\n",
    "import nilearn\n",
    "from nilearn import connectome\n",
    "\n",
    "label_file = '/Users/celery/Research/dataset/ABCD/abcd_labels_cleaned.csv'\n",
    "#we use internal label for now\n",
    "def get_label(subject_list):\n",
    "  label_dict = {}\n",
    "  with open(label_file) as csv_file:\n",
    "    reader = csv.DictReader(csv_file)\n",
    "    for row in reader:\n",
    "      if row['src_subject_id'] in subject_list:\n",
    "        label = int(row['ksads_p_internal'])\n",
    "        if label == 0:\n",
    "          label_dict[row['src_subject_id']] = 0 #control\n",
    "        else:\n",
    "          label_dict[row['src_subject_id']] = 1\n",
    "  return label_dict\n",
    "\n"
   ]
  },
  {
   "cell_type": "code",
   "execution_count": 10,
   "id": "6753cf79",
   "metadata": {},
   "outputs": [
    {
     "name": "stdout",
     "output_type": "stream",
     "text": [
      "{'NDARINV003RTV85': 0, 'NDARINV007W6H7B': 1, 'NDARINV00BD7VDC': 0}\n"
     ]
    }
   ],
   "source": [
    "# Example subject list to test\n",
    "test_subjects = ('NDARINV003RTV85', 'NDARINV007W6H7B', 'NDARINV00BD7VDC')  # Replace these with actual subject IDs from your CSV file\n",
    "\n",
    "# Call the function\n",
    "test = get_label(test_subjects)\n",
    "\n",
    "# Print the result\n",
    "print(test)\n"
   ]
  }
 ],
 "metadata": {
  "kernelspec": {
   "display_name": "GAT_Newest",
   "language": "python",
   "name": "python3"
  },
  "language_info": {
   "codemirror_mode": {
    "name": "ipython",
    "version": 3
   },
   "file_extension": ".py",
   "mimetype": "text/x-python",
   "name": "python",
   "nbconvert_exporter": "python",
   "pygments_lexer": "ipython3",
   "version": "3.13.5"
  }
 },
 "nbformat": 4,
 "nbformat_minor": 5
}
