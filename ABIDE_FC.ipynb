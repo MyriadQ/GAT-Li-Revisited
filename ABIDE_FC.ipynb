{
 "cells": [
  {
   "cell_type": "markdown",
   "id": "faaef448",
   "metadata": {},
   "source": [
    "Import libs"
   ]
  },
  {
   "cell_type": "code",
   "execution_count": 24,
   "id": "3c3d0f3a",
   "metadata": {},
   "outputs": [
    {
     "name": "stdout",
     "output_type": "stream",
     "text": [
      "1.16.6\n",
      "0.22\n",
      "0.6.2\n"
     ]
    }
   ],
   "source": [
    "import os #give access to OS functionality, like working with files and folder\n",
    "import csv #Allows reading and writing CSV files\n",
    "import numpy as np\n",
    "print(np.__version__)\n",
    "import scipy.io as sio\n",
    "import sklearn\n",
    "from sklearn.covariance import GraphicalLassoCV\n",
    "print(sklearn.__version__)\n",
    "import nilearn\n",
    "print(nilearn.__version__)\n",
    "from nilearn import connectome\n"
   ]
  },
  {
   "cell_type": "markdown",
   "id": "7e1f51ec",
   "metadata": {},
   "source": [
    "Manage Files"
   ]
  },
  {
   "cell_type": "code",
   "execution_count": 45,
   "id": "1826862b",
   "metadata": {},
   "outputs": [],
   "source": [
    "# Output path\n",
    "save_path = '/home/celery/Documents/Research/dataset/Outputs'\n",
    "\n",
    "# Number of subjects\n",
    "num_subjects = 1000\n",
    "\n",
    "# Selected pipeline\n",
    "pipeline = 'cpac'\n",
    "\n",
    "# Files to fetch\n",
    "derivatives = ['rois_ho']\n",
    "\n",
    "# Get the root folder\n",
    "root_folder = '/home/celery/Documents/Research/dataset/Outputs/cpac/filt_global/rois_ho'\n"
   ]
  },
  {
   "cell_type": "code",
   "execution_count": 46,
   "id": "d2b9fdc7",
   "metadata": {},
   "outputs": [],
   "source": [
    "def get_ids(num_subjects=None, short=True):\n",
    "    \"\"\"\n",
    "        num_subjects   : number of subject IDs to get\n",
    "        short          : True of False, specifies whether to get short or long subject IDs (Eg: 51431 or NYU_0051431_session_1_rest_1)\n",
    "\n",
    "    return:\n",
    "        subject_IDs    : list of subject IDs (length num_subjects)\n",
    "    \"\"\"\n",
    "    \n",
    "    if short:\n",
    "        subject_IDs = np.loadtxt('/home/celery/Documents/Research/dataset/valid_subject_ids.txt', dtype=int)\n",
    "        subject_IDs = subject_IDs.astype(str)\n",
    "    else:\n",
    "        subject_IDs = np.loadtxt('/home/celery/Documents/Research/dataset/full_subject_ids.txt', dtype=str)\n",
    "\n",
    "    if num_subjects is not None:\n",
    "        subject_IDs = subject_IDs[:num_subjects]\n",
    "\n",
    "    return subject_IDs"
   ]
  },
  {
   "cell_type": "markdown",
   "id": "fce8af60",
   "metadata": {},
   "source": [
    "Testing after getting ids"
   ]
  },
  {
   "cell_type": "code",
   "execution_count": 47,
   "id": "a77d8ed0",
   "metadata": {},
   "outputs": [
    {
     "name": "stdout",
     "output_type": "stream",
     "text": [
      "Subject IDs: ['50004' '50005' '50006' '50007' '50008' '50009' '50010' '50011' '50012'\n",
      " '50014' '50015' '50016' '50020' '50022' '50023' '50024' '50025' '50027'\n",
      " '50029' '50030' '50031' '50032' '50033' '50034' '50035' '50036' '50037'\n",
      " '50038' '50040' '50041' '50042' '50044' '50045' '50046' '50047' '50048'\n",
      " '50050' '50051' '50052' '50055' '50056' '50057' '50058' '50059' '50060'\n",
      " '50102' '50104' '50105' '50107' '50111' '50112' '50113' '50114' '50115'\n",
      " '50116' '50117' '50118' '50119' '50121' '50122' '50125' '50127' '50128'\n",
      " '50129' '50130' '50131' '50132' '50133' '50134' '50136' '50142' '50143'\n",
      " '50144' '50145' '50146' '50147' '50148' '50149' '50150' '50152' '50153'\n",
      " '50156' '50157' '50158' '50159' '50160' '50161' '50166' '50167' '50168'\n",
      " '50169' '50170' '50171' '50182' '50183' '50184' '50186' '50187' '50188'\n",
      " '50189' '50190' '50191' '50193' '50194' '50195' '50196' '50197' '50198'\n",
      " '50199' '50200' '50201' '50203' '50204' '50205' '50206' '50207' '50208'\n",
      " '50209' '50210' '50211' '50212' '50213' '50214' '50215' '50216' '50217'\n",
      " '50232' '50233' '50234' '50235' '50236' '50237' '50239' '50240' '50241'\n",
      " '50243' '50245' '50246' '50247' '50248' '50249' '50250' '50251' '50252'\n",
      " '50253' '50254' '50255' '50257' '50259' '50260' '50261' '50262' '50263'\n",
      " '50264' '50266' '50267' '50268' '50269' '50270' '50271' '50272' '50273'\n",
      " '50274' '50275' '50276' '50277' '50278' '50280' '50282' '50283' '50284'\n",
      " '50285' '50287' '50289' '50290' '50291' '50292' '50293' '50294' '50295'\n",
      " '50297' '50298' '50300' '50301' '50302' '50307' '50310' '50314' '50315'\n",
      " '50318' '50319' '50320' '50321' '50324' '50325' '50326' '50327' '50329'\n",
      " '50330' '50331' '50332' '50334' '50335' '50336' '50337' '50338' '50339'\n",
      " '50340' '50341' '50342' '50343' '50344' '50345' '50346' '50347' '50348'\n",
      " '50349' '50350' '50351' '50352' '50353' '50355' '50356' '50357' '50358'\n",
      " '50360' '50361' '50362' '50363' '50364' '50365' '50366' '50367' '50368'\n",
      " '50369' '50370' '50372' '50373' '50374' '50375' '50377' '50379' '50382'\n",
      " '50385' '50386' '50387' '50388' '50390' '50391' '50397' '50399' '50402'\n",
      " '50404' '50405' '50406' '50407' '50408' '50410' '50411' '50412' '50413'\n",
      " '50414' '50415' '50416' '50417' '50418' '50419' '50421' '50424' '50425'\n",
      " '50426' '50427' '50428' '50433' '50434' '50435' '50436' '50437' '50438'\n",
      " '50439' '50440' '50441' '50442' '50443' '50444' '50445' '50446' '50447'\n",
      " '50448' '50449' '50455' '50463' '50466' '50467' '50468' '50469' '50477'\n",
      " '50480' '50482' '50483' '50485' '50486' '50487' '50488' '50490' '50491'\n",
      " '50492' '50493' '50494' '50496' '50497' '50498' '50499' '50500' '50502'\n",
      " '50503' '50504' '50505' '50507' '50514' '50515' '50516' '50518' '50519'\n",
      " '50520' '50521' '50524' '50525' '50526' '50527' '50528' '50529' '50530'\n",
      " '50532' '50551' '50552' '50553' '50554' '50555' '50556' '50557' '50558'\n",
      " '50559' '50560' '50561' '50562' '50563' '50564' '50566' '50567' '50568'\n",
      " '50569' '50570' '50571' '50572' '50573' '50574' '50575' '50576' '50577'\n",
      " '50601' '50603' '50604' '50605' '50606' '50607' '50609' '50611' '50612'\n",
      " '50613' '50614' '50616' '50617' '50619' '50620' '50621' '50623' '50624'\n",
      " '50625' '50626' '50627' '50628' '50649' '50651' '50653' '50657' '50669'\n",
      " '50682' '50683' '50685' '50686' '50687' '50688' '50689' '50690' '50691'\n",
      " '50692' '50693' '50694' '50695' '50696' '50697' '50698' '50699' '50700'\n",
      " '50701' '50702' '50703' '50704' '50705' '50706' '50707' '50708' '50709'\n",
      " '50710' '50711' '50722' '50723' '50724' '50725' '50726' '50727' '50728'\n",
      " '50730' '50731' '50732' '50733' '50735' '50736' '50737' '50738' '50739'\n",
      " '50740' '50741' '50742' '50743' '50745' '50746' '50747' '50748' '50749'\n",
      " '50751' '50752' '50753' '50754' '50755' '50756' '50757' '50772' '50773'\n",
      " '50774' '50775' '50776' '50777' '50778' '50779' '50780' '50781' '50782'\n",
      " '50783' '50785' '50786' '50787' '50788' '50789' '50790' '50791' '50792'\n",
      " '50795' '50798' '50799' '50800' '50802' '50803' '50804' '50812' '50814'\n",
      " '50816' '50817' '50818' '50819' '50820' '50821' '50822' '50823' '50824'\n",
      " '50825' '50954' '50955' '50956' '50957' '50958' '50959' '50960' '50961'\n",
      " '50962' '50964' '50965' '50966' '50967' '50968' '50969' '50970' '50972'\n",
      " '50973' '50974' '50976' '50977' '50978' '50979' '50981' '50982' '50983'\n",
      " '50984' '50985' '50986' '50987' '50988' '50989' '50990' '50991' '50992'\n",
      " '50993' '50994' '50995' '50996' '50997' '50998' '50999' '51000' '51001'\n",
      " '51002' '51003' '51006' '51007' '51008' '51009' '51010' '51011' '51012'\n",
      " '51013' '51014' '51015' '51016' '51017' '51018' '51019' '51020' '51021'\n",
      " '51023' '51024' '51025' '51026' '51027' '51028' '51029' '51032' '51033'\n",
      " '51034' '51035' '51036' '51038' '51039' '51040' '51041' '51042' '51044'\n",
      " '51045' '51046' '51047' '51048' '51049' '51050' '51051' '51052' '51053'\n",
      " '51054' '51055' '51056' '51057' '51058' '51059' '51060' '51061' '51062'\n",
      " '51063' '51064' '51065' '51066' '51067' '51068' '51069' '51070' '51071'\n",
      " '51072' '51073' '51074' '51075' '51076' '51077' '51078' '51079' '51080'\n",
      " '51081' '51082' '51083' '51084' '51085' '51086' '51087' '51088' '51089'\n",
      " '51090' '51091' '51093' '51094' '51095' '51096' '51097' '51098' '51099'\n",
      " '51100' '51101' '51102' '51103' '51104' '51105' '51106' '51107' '51109'\n",
      " '51110' '51111' '51112' '51113' '51114' '51116' '51117' '51118' '51121'\n",
      " '51122' '51123' '51124' '51126' '51128' '51129' '51130' '51131' '51132'\n",
      " '51133' '51134' '51135' '51137' '51138' '51139' '51140' '51141' '51142'\n",
      " '51146' '51147' '51148' '51149' '51150' '51151' '51152' '51153' '51154'\n",
      " '51155' '51156' '51160' '51162' '51163' '51164' '51165' '51167' '51168'\n",
      " '51169' '51170' '51171' '51172' '51173' '51174' '51175' '51177' '51178'\n",
      " '51179' '51180' '51181' '51182' '51183' '51184' '51185' '51186' '51187'\n",
      " '51188' '51189' '51190' '51191' '51192' '51193' '51194' '51196' '51197'\n",
      " '51198' '51199' '51205' '51206' '51208' '51210' '51211' '51212' '51214'\n",
      " '51216' '51217' '51218' '51220' '51221' '51222' '51223' '51224' '51225'\n",
      " '51226' '51229' '51230' '51234' '51235' '51236' '51237' '51239' '51240'\n",
      " '51241' '51248' '51249' '51250' '51251' '51252' '51253' '51254' '51255'\n",
      " '51256' '51257' '51260' '51261' '51262' '51264' '51265' '51266' '51267'\n",
      " '51268' '51269' '51271' '51272' '51273' '51275' '51276' '51277' '51279'\n",
      " '51280' '51281' '51282' '51291' '51293' '51294' '51295' '51298' '51301'\n",
      " '51302' '51303' '51305' '51306' '51307' '51308' '51309' '51311' '51312'\n",
      " '51313' '51314' '51315' '51316' '51317' '51318' '51319' '51321' '51322'\n",
      " '51323' '51324' '51325' '51326' '51327' '51328' '51329' '51330' '51331'\n",
      " '51332' '51333' '51334' '51335' '51336' '51338' '51339' '51340' '51342'\n",
      " '51343' '51344' '51345' '51346' '51347' '51349' '51351' '51355' '51356'\n",
      " '51357' '51360' '51362' '51363' '51364' '51365' '51369' '51370' '51373'\n",
      " '51456' '51457' '51458' '51459' '51460' '51461' '51462' '51463' '51464'\n",
      " '51465' '51466' '51467' '51468' '51469' '51470' '51471' '51472' '51473'\n",
      " '51474' '51476' '51477' '51478' '51479' '51480' '51481' '51482' '51483'\n",
      " '51484' '51485' '51486' '51487' '51488' '51489' '51490' '51491' '51492'\n",
      " '51493' '51557' '51558' '51559' '51560' '51561' '51562' '51563' '51564'\n",
      " '51565' '51566' '51567' '51570' '51571' '51572' '51573' '51574' '51576'\n",
      " '51577' '51578' '51579' '51580' '51581' '51582' '51583' '51584' '51585'\n",
      " '51606' '51607']\n",
      "Number of IDs: 884\n"
     ]
    }
   ],
   "source": [
    "\n",
    "subject_IDs = get_ids(num_subjects=None, short=True)\n",
    "print(\"Subject IDs:\", subject_IDs)\n",
    "print(\"Number of IDs:\", len(subject_IDs))\n",
    "\n"
   ]
  },
  {
   "cell_type": "code",
   "execution_count": 48,
   "id": "2fb2a900",
   "metadata": {},
   "outputs": [],
   "source": [
    "def fetch_filenames(subject_list, file_type):\n",
    "    \"\"\"\n",
    "        subject_list : list of short subject IDs in string format\n",
    "        file_type    : must be one of the available file types\n",
    "\n",
    "    returns:\n",
    "\n",
    "        filenames    : list of filetypes (same length as subject_list)\n",
    "    \"\"\"\n",
    "\n",
    "    # Specify file mappings for the possible file types\n",
    "    filemapping = {'func_preproc': '_func_preproc.nii.gz',\n",
    "                   'rois_aal': '_rois_aal.1D',\n",
    "                   'rois_cc200': '_rois_cc200.1D',\n",
    "                   'rois_ho': '_rois_ho.1D'}\n",
    "\n",
    "    # The list to be filled\n",
    "    filenames = []\n",
    "\n",
    "    # Load subject ID lists\n",
    "    subject_IDs = get_ids(short=True)\n",
    "    subject_IDs = subject_IDs.tolist()\n",
    "    full_IDs = get_ids(short=False)\n",
    "\n",
    "    # Fill list with requested file paths\n",
    "    for s in subject_list:\n",
    "        try:\n",
    "            if file_type in filemapping:\n",
    "                idx = subject_IDs.index(s)\n",
    "                pattern = full_IDs[idx] + filemapping[file_type]\n",
    "            else:\n",
    "                pattern = s + file_type\n",
    "            \n",
    "\n",
    "            filenames.append(os.path.join(root_folder, pattern))\n",
    "        except ValueError:\n",
    "            # Return N/A if subject ID is not found\n",
    "            filenames.append('N/A')\n",
    "\n",
    "    return filenames"
   ]
  },
  {
   "cell_type": "markdown",
   "id": "3f64e813",
   "metadata": {},
   "source": [
    "Testing the function"
   ]
  },
  {
   "cell_type": "code",
   "execution_count": 49,
   "id": "fac452d0",
   "metadata": {},
   "outputs": [],
   "source": [
    "test_subjects = ['50724', '51585']  \n",
    "file_type = 'rois_ho'               \n",
    "\n",
    "file_list = fetch_filenames(test_subjects, file_type)\n"
   ]
  },
  {
   "cell_type": "code",
   "execution_count": 50,
   "id": "bff8828c",
   "metadata": {},
   "outputs": [
    {
     "name": "stdout",
     "output_type": "stream",
     "text": [
      "/home/celery/Documents/Research/dataset/Outputs/cpac/filt_global/rois_ho/Leuven_2_0050724_rois_ho.1D\n",
      "/home/celery/Documents/Research/dataset/Outputs/cpac/filt_global/rois_ho/SBL_0051585_rois_ho.1D\n"
     ]
    }
   ],
   "source": [
    "\n",
    "for f in file_list:\n",
    "    print(f)\n"
   ]
  },
  {
   "cell_type": "code",
   "execution_count": 51,
   "id": "6a3a3944",
   "metadata": {},
   "outputs": [],
   "source": [
    "def find_subject_file(subject_id, folder_path, suffix='_rois_ho.1D'):\n",
    "    \"\"\"\n",
    "    Search for a file in folder_path that matches the given subject_id.\n",
    "\n",
    "    subject_id   : short subject ID like '50004'\n",
    "    folder_path  : the path where .1D files are stored (e.g., rois_ho folder)\n",
    "    suffix       : file suffix to look for (default is '_rois_ho.1D')\n",
    "\n",
    "    Returns:\n",
    "        file_path  : full path to the matching file, or 'N/A' if not found\n",
    "    \"\"\"\n",
    "    for fname in os.listdir(folder_path):\n",
    "        if subject_id in fname and fname.endswith(suffix):\n",
    "            return os.path.join(folder_path, fname)\n",
    "    return 'N/A'\n"
   ]
  },
  {
   "cell_type": "markdown",
   "id": "7eb6f223",
   "metadata": {},
   "source": [
    "Testing"
   ]
  },
  {
   "cell_type": "code",
   "execution_count": 52,
   "id": "d1d03ca2",
   "metadata": {},
   "outputs": [
    {
     "name": "stdout",
     "output_type": "stream",
     "text": [
      "Subject 50004 -> /home/celery/Documents/Research/dataset/Outputs/cpac/filt_global/rois_ho/Pitt_0050004_rois_ho.1D\n",
      "Subject 50005 -> /home/celery/Documents/Research/dataset/Outputs/cpac/filt_global/rois_ho/Pitt_0050005_rois_ho.1D\n",
      "Subject 50006 -> /home/celery/Documents/Research/dataset/Outputs/cpac/filt_global/rois_ho/Pitt_0050006_rois_ho.1D\n"
     ]
    }
   ],
   "source": [
    "folder_path = \"/home/celery/Documents/Research/dataset/Outputs/cpac/filt_global/rois_ho/\" # this function is different from the  code because my data is flattened\n",
    "subject_ids = ['50004', '50005', '50006']\n",
    "\n",
    "for sid in subject_ids:\n",
    "    file_path = find_subject_file(sid, folder_path)\n",
    "    print(\"Subject\", sid, \"->\", file_path)\n"
   ]
  },
  {
   "cell_type": "code",
   "execution_count": 33,
   "id": "78b532c8",
   "metadata": {},
   "outputs": [
    {
     "data": {
      "text/plain": [
       "'def fetch_conn_matrices(subject_list, atlas_name, kind): #fetch mat file after subject_connectivity()\\n    \"\"\"\\n        subject_list : list of short subject IDs in string format\\n        atlas_name   : the atlas based on which the timeseries are generated e.g. aal, cc200\\n        kind         : the kind of correlation used to estimate the matrices, i.e.\\n\\n    returns:\\n        connectivity : list of square connectivity matrices, one for each subject in subject_list\\n    \"\"\"\\n\\n    conn_files = fetch_filenames(subject_list,\\n                                 \\'_\\' + atlas_name + \\'_\\' + kind.replace(\\' \\', \\'_\\') + \\'.mat\\')\\n\\n    conn_matrices = []\\n\\n    for fl in conn_files:\\n        print(\"Reading connectivity file %s\" % fl)\\n        try:\\n            mat = sio.loadmat(fl)[\\'connectivity\\']\\n            conn_matrices.append(mat)\\n        except IOError:\\n            print(\"File %s does not exist\" % fl)\\n\\n    return conn_matrices\\n'"
      ]
     },
     "execution_count": 33,
     "metadata": {},
     "output_type": "execute_result"
    }
   ],
   "source": [
    "'''def fetch_conn_matrices(subject_list, atlas_name, kind): #fetch mat file after subject_connectivity()\n",
    "    \"\"\"\n",
    "        subject_list : list of short subject IDs in string format\n",
    "        atlas_name   : the atlas based on which the timeseries are generated e.g. aal, cc200\n",
    "        kind         : the kind of correlation used to estimate the matrices, i.e.\n",
    "\n",
    "    returns:\n",
    "        connectivity : list of square connectivity matrices, one for each subject in subject_list\n",
    "    \"\"\"\n",
    "\n",
    "    conn_files = fetch_filenames(subject_list,\n",
    "                                 '_' + atlas_name + '_' + kind.replace(' ', '_') + '.mat')\n",
    "\n",
    "    conn_matrices = []\n",
    "\n",
    "    for fl in conn_files:\n",
    "        print(\"Reading connectivity file %s\" % fl)\n",
    "        try:\n",
    "            mat = sio.loadmat(fl)['connectivity']\n",
    "            conn_matrices.append(mat)\n",
    "        except IOError:\n",
    "            print(\"File %s does not exist\" % fl)\n",
    "\n",
    "    return conn_matrices\n",
    "'''\n"
   ]
  },
  {
   "cell_type": "code",
   "execution_count": 53,
   "id": "ad61465d",
   "metadata": {},
   "outputs": [],
   "source": [
    "def get_timeseries(subject_list, atlas_name):\n",
    "    \"\"\"\n",
    "        subject_list : list of short subject IDs in string format\n",
    "        atlas_name   : the atlas based on which the timeseries are generated e.g. aal, cc200\n",
    "\n",
    "    returns:\n",
    "        ts           : list of timeseries arrays, each of shape (timepoints x regions)\n",
    "    \"\"\"\n",
    "\n",
    "    ts_files = fetch_filenames(subject_list, 'rois_' + atlas_name)\n",
    "\n",
    "    ts = []\n",
    "\n",
    "    for fl in ts_files:\n",
    "        print(\"Reading timeseries file %s\" % fl)\n",
    "        ts.append(np.loadtxt(fl, skiprows=0))\n",
    "\n",
    "    return ts"
   ]
  },
  {
   "cell_type": "markdown",
   "id": "f67f6ea9",
   "metadata": {},
   "source": [
    "Function testing"
   ]
  },
  {
   "cell_type": "code",
   "execution_count": 54,
   "id": "5dffc237",
   "metadata": {},
   "outputs": [],
   "source": [
    "#ts = get_timeseries(['50004'], 'ho') \n"
   ]
  },
  {
   "cell_type": "code",
   "execution_count": 55,
   "id": "2f80e778",
   "metadata": {},
   "outputs": [],
   "source": [
    "def norm_timeseries(ts_list):\n",
    "    \"\"\"\n",
    "        ts_list    : list of timeseries arrays, each of shape (timepoints x regions)\n",
    "\n",
    "    returns:\n",
    "        norm_ts    : list of normalised timeseries arrays, same shape as ts_list\n",
    "    \"\"\"\n",
    "\n",
    "    norm_ts = []\n",
    "\n",
    "    for ts in ts_list:\n",
    "        norm_ts.append(nilearn.signal.clean(ts, detrend=False))\n",
    "\n",
    "    return norm_ts"
   ]
  },
  {
   "cell_type": "code",
   "execution_count": 37,
   "id": "fbfe77c7",
   "metadata": {},
   "outputs": [],
   "source": [
    "def subject_connectivity(timeseries, subject, atlas_name, kind, save=True, save_path=root_folder):\n",
    "    \"\"\"\n",
    "        timeseries   : timeseries table for subject (timepoints x regions)\n",
    "        subject      : the subject short ID\n",
    "        atlas_name   : name of the atlas used\n",
    "        kind         : the kind of connectivity to be used, e.g. lasso, partial correlation, correlation\n",
    "        save         : save the connectivity matrix to a file\n",
    "        save_path    : specify path to save the matrix if different from subject folder\n",
    "\n",
    "    returns:\n",
    "        connectivity : connectivity matrix (regions x regions)\n",
    "    \"\"\"\n",
    "\n",
    "    print(\"Estimating %s matrix for subject %s\" % (kind, subject))\n",
    "\n",
    "    if kind == 'lasso':\n",
    "        # Graph Lasso estimator\n",
    "        covariance_estimator = GraphicalLassoCV(verbose=1)\n",
    "        covariance_estimator.fit(timeseries)\n",
    "        connectivity = covariance_estimator.covariance_\n",
    "        print('Covariance matrix has shape {0}.'.format(connectivity.shape))\n",
    "\n",
    "    elif kind in ['tangent', 'partial correlation', 'correlation']:\n",
    "        conn_measure = connectome.ConnectivityMeasure(kind=kind)\n",
    "        connectivity = conn_measure.fit_transform([timeseries])[0]\n",
    "\n",
    "    # defining custom save path\n",
    "    save_path_mat = '/home/celery/Documents/Research/dataset/Outputs/cpac/filt_global/mat/'\n",
    "    \n",
    "    if save:\n",
    "        subject_file = os.path.join(save_path_mat,\n",
    "                            subject + '_' + atlas_name + '_' + kind.replace(' ', '_') + '.mat')\n",
    "\n",
    "        sio.savemat(subject_file, {'connectivity': connectivity})\n",
    "\n",
    "    return connectivity\n"
   ]
  },
  {
   "cell_type": "markdown",
   "id": "88a167ff",
   "metadata": {},
   "source": [
    "Function testing"
   ]
  },
  {
   "cell_type": "code",
   "execution_count": 38,
   "id": "4d1f52a9",
   "metadata": {},
   "outputs": [],
   "source": [
    "# ts = np.loadtxt('/home/celery/Documents/Research/dataset/Outputs/cpac/filt_global/rois_ho/Caltech_0051473_rois_ho.1D')  # (timepoints x regions)\n",
    "# conn = subject_connectivity(ts, '51473', 'ho', 'correlation') #uncomment to test\n"
   ]
  },
  {
   "cell_type": "code",
   "execution_count": 39,
   "id": "358a7bab",
   "metadata": {},
   "outputs": [],
   "source": [
    "# mat_data = sio.loadmat('/home/celery/Documents/Research/dataset/Outputs/cpac/filt_global/mat/51473_ho_correlation.mat')\n",
    "# print(mat_data.keys())\n",
    "# print(mat_data['connectivity'])\n",
    "# conn = mat_data['connectivity']\n",
    "# print(conn.shape)"
   ]
  },
  {
   "cell_type": "code",
   "execution_count": 64,
   "id": "2f967389",
   "metadata": {},
   "outputs": [],
   "source": [
    "def group_connectivity(timeseries, subject_list, atlas_name, kind, save=True, save_path=root_folder): #batch version of the function above\n",
    "    \"\"\"\n",
    "        timeseries   : list of timeseries tables for subjects (timepoints x regions)\n",
    "        subject_list : the subject short IDs list\n",
    "        atlas_name   : name of the atlas used\n",
    "        kind         : the kind of connectivity to be used, e.g. lasso, partial correlation, correlation\n",
    "        save         : save the connectivity matrix to a file\n",
    "        save_path    : specify path to save the matrix if different from subject folder\n",
    "\n",
    "    returns:\n",
    "        connectivity : connectivity matrix (regions x regions)\n",
    "    \"\"\"\n",
    "\n",
    "    if kind == 'lasso':\n",
    "        # Graph Lasso estimator\n",
    "        covariance_estimator = GraphicalLassoCV(verbose=1)\n",
    "        connectivity_matrices = []\n",
    "\n",
    "        for i, ts in enumerate(timeseries):\n",
    "            covariance_estimator.fit(ts)\n",
    "            connectivity = covariance_estimator.covariance_\n",
    "            connectivity_matrices.append(connectivity)\n",
    "            print('Covariance matrix has shape {0}.'.format(connectivity.shape))\n",
    "\n",
    "    elif kind in ['tangent', 'partial correlation', 'correlation']:\n",
    "        conn_measure = connectome.ConnectivityMeasure(kind=kind)\n",
    "        connectivity_matrices = conn_measure.fit_transform(timeseries)\n",
    "    # defining custom save path for .mat files\n",
    "    save_path_mat = '/home/celery/Documents/Research/dataset/Outputs/cpac/filt_global/mat/'\n",
    "\n",
    "    if save:\n",
    "        for i, subject in enumerate(subject_list):\n",
    "            subject_file = os.path.join(save_path_mat,\n",
    "                                        subject + '_' + atlas_name + '_' + kind.replace(' ', '_') + '.mat')\n",
    "            sio.savemat(subject_file, {'connectivity': connectivity_matrices[i]})\n",
    "            print(\"Saving connectivity matrix to %s\" % subject_file)\n",
    "\n",
    "    return connectivity_matrices\n"
   ]
  },
  {
   "cell_type": "markdown",
   "id": "f1f30e06",
   "metadata": {},
   "source": [
    "Getting the connectivity from using group function above"
   ]
  },
  {
   "cell_type": "code",
   "execution_count": 58,
   "id": "e9626728",
   "metadata": {},
   "outputs": [],
   "source": [
    "subject_file = '/home/celery/Documents/Research/dataset/valid_subject_ids.txt'\n",
    "subject_list = np.loadtxt(subject_file, dtype = str).tolist()"
   ]
  },
  {
   "cell_type": "code",
   "execution_count": null,
   "id": "8fbc63a3",
   "metadata": {},
   "outputs": [],
   "source": [
    "ts_list = get_timeseries(subject_list, 'ho')"
   ]
  },
  {
   "cell_type": "code",
   "execution_count": 60,
   "id": "a39c901f",
   "metadata": {},
   "outputs": [],
   "source": [
    "norm_ts_list = norm_timeseries(ts_list)"
   ]
  },
  {
   "cell_type": "code",
   "execution_count": null,
   "id": "4268bc82",
   "metadata": {},
   "outputs": [],
   "source": [
    "group_connectivity(\n",
    "    timeseries=ts_list,\n",
    "    subject_list=subject_list,\n",
    "    atlas_name='ho',\n",
    "    kind='correlation',\n",
    "    save=True,\n",
    "    save_path= '/home/celery/Documents/Research/dataset/Outputs/cpac/filt_global/mat'\n",
    ")"
   ]
  }
 ],
 "metadata": {
  "kernelspec": {
   "display_name": "GAT",
   "language": "python",
   "name": "python3"
  },
  "language_info": {
   "codemirror_mode": {
    "name": "ipython",
    "version": 3
   },
   "file_extension": ".py",
   "mimetype": "text/x-python",
   "name": "python",
   "nbconvert_exporter": "python",
   "pygments_lexer": "ipython3",
   "version": "3.5.10"
  }
 },
 "nbformat": 4,
 "nbformat_minor": 5
}
